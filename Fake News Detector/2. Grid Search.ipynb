{
 "cells": [
  {
   "cell_type": "markdown",
   "metadata": {},
   "source": [
    "Note: After the third run of Grid Search, some errors prompted so only the result for Method 2 remains... Anyway I will try to run it later. Fortunately I've stored some results from previous runs and I will use those results for my modelling."
   ]
  },
  {
   "cell_type": "code",
   "execution_count": 1,
   "metadata": {},
   "outputs": [
    {
     "name": "stderr",
     "output_type": "stream",
     "text": [
      "E:\\Anaconda3\\lib\\site-packages\\sklearn\\utils\\deprecation.py:144: FutureWarning: The sklearn.feature_extraction.stop_words module is  deprecated in version 0.22 and will be removed in version 0.24. The corresponding classes / functions should instead be imported from sklearn.feature_extraction.text. Anything that cannot be imported from sklearn.feature_extraction.text is now part of the private API.\n",
      "  warnings.warn(message, FutureWarning)\n"
     ]
    }
   ],
   "source": [
    "import pandas as pd\n",
    "from collections import Counter\n",
    "import re\n",
    "import numpy as np\n",
    "from sklearn.utils import shuffle\n",
    "\n",
    "# Modeling\n",
    "from sklearn.linear_model import LogisticRegression\n",
    "from sklearn.model_selection import cross_val_score\n",
    "from sklearn.model_selection import train_test_split\n",
    "from sklearn.model_selection import GridSearchCV\n",
    "from sklearn.feature_extraction.text import TfidfVectorizer\n",
    "from sklearn.feature_extraction.stop_words import ENGLISH_STOP_WORDS\n",
    "from sklearn.metrics import f1_score, accuracy_score , recall_score , precision_score\n",
    "import matplotlib.pyplot as plt\n",
    "from xgboost import XGBClassifier\n",
    "from sklearn.ensemble import RandomForestClassifier\n",
    "from sklearn.pipeline import Pipeline\n",
    "from sklearn.naive_bayes import MultinomialNB\n",
    "from sklearn import metrics\n",
    "from sklearn.metrics import accuracy_score, recall_score, precision_score, confusion_matrix\n",
    "\n",
    "%matplotlib inline\n",
    "%config InlineBackend.figure_format = 'retina'\n",
    "\n",
    "# Natural Language Processing\n",
    "from sklearn.feature_extraction import stop_words\n",
    "from sklearn.feature_extraction.text import CountVectorizer, TfidfVectorizer\n"
   ]
  },
  {
   "cell_type": "code",
   "execution_count": 2,
   "metadata": {},
   "outputs": [],
   "source": [
    "df = pd.read_csv('./news_dataset.csv',index_col='Unnamed: 0')"
   ]
  },
  {
   "cell_type": "code",
   "execution_count": 3,
   "metadata": {},
   "outputs": [],
   "source": [
    "df=df.dropna()"
   ]
  },
  {
   "cell_type": "code",
   "execution_count": 4,
   "metadata": {},
   "outputs": [],
   "source": [
    "df['fakeness']=df['label'].apply(lambda x:1 if x=='fake' else 0)"
   ]
  },
  {
   "cell_type": "code",
   "execution_count": 5,
   "metadata": {},
   "outputs": [],
   "source": [
    "# Preparing the target and predictors for modeling\n",
    "\n",
    "X_content_text = df.content.values\n",
    "X_title_text = df.title.values\n",
    "y = df.fakeness.values"
   ]
  },
  {
   "cell_type": "code",
   "execution_count": 8,
   "metadata": {},
   "outputs": [],
   "source": [
    "# Stemming and Lemmatizer\n",
    "from nltk import word_tokenize          \n",
    "from nltk.stem import WordNetLemmatizer \n",
    "class LemmaTokenizer(object):\n",
    "    def __init__(self):\n",
    "        self.wnl = WordNetLemmatizer()\n",
    "    def __call__(self, articles):\n",
    "        return [self.wnl.lemmatize(t) for t in word_tokenize(articles)]\n",
    "\n",
    "from nltk.tokenize import RegexpTokenizer\n",
    "\n",
    "Regexp = RegexpTokenizer(r'\\w+')\n",
    "\n",
    "tokenizer= Regexp.tokenize# Stemming and Lemmatizer\n",
    "from nltk import word_tokenize          \n",
    "from nltk.stem import WordNetLemmatizer \n",
    "class LemmaTokenizer(object):\n",
    "    def __init__(self):\n",
    "        self.wnl = WordNetLemmatizer()\n",
    "    def __call__(self, articles):\n",
    "        return [self.wnl.lemmatize(t) for t in word_tokenize(articles)]\n",
    "\n",
    "from nltk.tokenize import RegexpTokenizer\n",
    "\n",
    "Regexp = RegexpTokenizer(r'\\w+')\n",
    "\n",
    "tokenizer= Regexp.tokenize"
   ]
  },
  {
   "cell_type": "code",
   "execution_count": 9,
   "metadata": {},
   "outputs": [],
   "source": [
    "X_content_text_train, X_content_text_test, y_content_text_train, y_content_text_test = train_test_split(X_content_text,y, test_size = 0.2, random_state=1234,stratify=y)\n",
    "X_title_text_train, X_title_text_test, y_title_text_train, y_title_text_test = train_test_split( X_title_text,y, test_size = 0.2, random_state=1234,stratify=y)"
   ]
  },
  {
   "cell_type": "markdown",
   "metadata": {},
   "source": [
    "# Model 1: CountVectorizer & Logistic Regression "
   ]
  },
  {
   "cell_type": "code",
   "execution_count": null,
   "metadata": {},
   "outputs": [],
   "source": [
    "pipe = Pipeline([('cvec', CountVectorizer()),    \n",
    "                 ('lr', LogisticRegression(solver='liblinear'))])\n",
    "\n",
    "# Tune GridSearchCV\n",
    "pipe_params = {'cvec__stop_words': [None, 'english'],\n",
    "               'cvec__ngram_range': [(1,1), (2,2),(1,2),(1,3)],\n",
    "               'cvec__tokenizer':[LemmaTokenizer(),Regexp.tokenize],\n",
    "               'lr__C':[0.01, 0.1,1],\n",
    "               'lr__penalty':['l1','l2']}\n",
    "\n",
    "gs_content = GridSearchCV(pipe, param_grid=pipe_params, cv=3)\n",
    "\n",
    "gs_content.fit(X_content_text_train, y_content_text_train);\n",
    "print(\"Best score:\", gs_content.best_score_)\n",
    "print(\"Train score\", gs_content.score(X_content_text_train, y_content_text_train))\n",
    "print(\"Test score\", gs_content.score(X_content_text_test, y_content_text_test))\n",
    "\n",
    "gs_content.best_params_"
   ]
  },
  {
   "cell_type": "code",
   "execution_count": null,
   "metadata": {},
   "outputs": [],
   "source": [
    "# get predictions for article section\n",
    "y_content_text_pred = gs_content.predict(X_content_text_test)\n",
    "\n",
    "# print metrics\n",
    "print (\"Logistig Regression F1 and Accuracy Scores : \\n\")\n",
    "print ( \"F1 score {:.4}%\".format( f1_score(y_content_text_test, y_content_text_pred, average='macro')*100 ) )\n",
    "print ( \"Accuracy score {:.4}%\".format(accuracy_score(y_content_text_test, y_content_text_pred)*100) )"
   ]
  },
  {
   "cell_type": "markdown",
   "metadata": {},
   "source": [
    "# Model 2: CountVectorizer & MultinomialNB"
   ]
  },
  {
   "cell_type": "code",
   "execution_count": null,
   "metadata": {},
   "outputs": [],
   "source": [
    "pipe = Pipeline([('cvec', CountVectorizer()),    \n",
    "                 ('nb', MultinomialNB())])\n",
    "\n",
    "# Tune GridSearchCV\n",
    "pipe_params = {'cvec__stop_words': [None, 'english'],\n",
    "               'cvec__ngram_range': [(1,1), (2,2),(1,2),(1,3)],\n",
    "               'cvec__tokenizer':[LemmaTokenizer(),Regexp.tokenize],\n",
    "               'nb__alpha': [.36, .6]}\n",
    "\n",
    "gs_content = GridSearchCV(pipe, param_grid=pipe_params, cv=3)\n",
    "\n",
    "gs_content.fit(X_content_text_train, y_content_text_train);\n",
    "print(\"Best score:\", gs_content.best_score_)\n",
    "print(\"Train score\", gs_content.score(X_content_text_train, y_content_text_train))\n",
    "print(\"Test score\", gs_content.score(X_content_text_test, y_content_text_test))\n",
    "\n",
    "gs_content.best_params_\n"
   ]
  },
  {
   "cell_type": "code",
   "execution_count": null,
   "metadata": {},
   "outputs": [],
   "source": [
    "# get predictions for article section\n",
    "y_content_text_pred = gs_content.predict(X_content_text_test)\n",
    "\n",
    "# print metrics\n",
    "print (\"Logistig Regression F1 and Accuracy Scores : \\n\")\n",
    "print ( \"F1 score {:.4}%\".format( f1_score(y_content_text_test, y_content_text_pred, average='macro')*100 ) )\n",
    "print ( \"Accuracy score {:.4}%\".format(accuracy_score(y_content_text_test, y_content_text_pred)*100) )"
   ]
  },
  {
   "cell_type": "markdown",
   "metadata": {},
   "source": [
    "# Model 3： CountVectorizer & Random Forest"
   ]
  },
  {
   "cell_type": "code",
   "execution_count": null,
   "metadata": {},
   "outputs": [],
   "source": [
    "pipe = Pipeline([('cvec', CountVectorizer()),    \n",
    "                 ('rf', RandomForestClassifier(n_jobs=3))])\n",
    "\n",
    "# Tune GridSearchCV\n",
    "pipe_params = {'cvec__stop_words': [None, 'english'],\n",
    "               'cvec__ngram_range': [(1,1), (2,2),(1,2),(1,3)],\n",
    "               'cvec__tokenizer':[LemmaTokenizer(),Regexp.tokenize],\n",
    "               'rf__n_estimators':[100,200,300],\n",
    "               'rf__bootstrap': [True, False],\n",
    "               'rf__max_features': ['auto', 'sqrt']}\n",
    "\n",
    "gs_content = GridSearchCV(pipe, param_grid=pipe_params, cv=3)\n",
    "\n",
    "gs_content.fit(X_content_text_train, y_content_text_train);\n",
    "print(\"Best score:\", gs_content.best_score_)\n",
    "print(\"Train score\", gs_content.score(X_content_text_train, y_content_text_train))\n",
    "print(\"Test score\", gs_content.score(X_content_text_test, y_content_text_test))\n",
    "\n",
    "gs_content.best_params_"
   ]
  },
  {
   "cell_type": "code",
   "execution_count": null,
   "metadata": {},
   "outputs": [],
   "source": [
    "# get predictions for article section\n",
    "y_content_text_pred = gs_content.predict(X_content_text_test)\n",
    "\n",
    "# print metrics\n",
    "print (\"Logistig Regression F1 and Accuracy Scores : \\n\")\n",
    "print ( \"F1 score {:.4}%\".format( f1_score(y_content_text_test, y_content_text_pred, average='macro')*100 ) )\n",
    "print ( \"Accuracy score {:.4}%\".format(accuracy_score(y_content_text_test, y_content_text_pred)*100) )"
   ]
  },
  {
   "cell_type": "markdown",
   "metadata": {},
   "source": [
    "# Model 4: TF-IDF & Logistic Regression"
   ]
  },
  {
   "cell_type": "code",
   "execution_count": null,
   "metadata": {},
   "outputs": [],
   "source": [
    "pipe = Pipeline([('tvect', TfidfVectorizer()),    \n",
    "                 ('lr', LogisticRegression(solver='liblinear'))])\n",
    "\n",
    "# Tune GridSearchCV\n",
    "pipe_params = {'tvect__ngram_range': [(1,1),(1,2),(2,2),(1,3)],\n",
    "               'tvect__max_df': [0.65,0.75,0.85,0.90],\n",
    "               'tvect__min_df': [0.001,0.01],\n",
    "               'tvect__min_df': [0.001,0.01],\n",
    "               'tvect__tokenizer':[LemmaTokenizer(),Regexp.tokenize],\n",
    "               'lr__C':[0.01, 0.1,1],\n",
    "               'lr__penalty':['l1','l2']}\n",
    "\n",
    "gs_content = GridSearchCV(pipe, param_grid=pipe_params, cv=3)\n",
    "\n",
    "gs_content.fit(X_content_text_train, y_content_text_train);\n",
    "print(\"Best score:\", gs_content.best_score_)\n",
    "print(\"Train score\", gs_content.score(X_content_text_train, y_content_text_train))\n",
    "print(\"Test score\", gs_content.score(X_content_text_test, y_content_text_test))\n",
    "\n",
    "gs_content.best_params_"
   ]
  },
  {
   "cell_type": "code",
   "execution_count": null,
   "metadata": {},
   "outputs": [],
   "source": [
    "# get predictions for article section\n",
    "y_content_text_pred = gs_content.predict(X_content_text_test)\n",
    "\n",
    "# print metrics\n",
    "print (\"Logistig Regression F1 and Accuracy Scores : \\n\")\n",
    "print ( \"F1 score {:.4}%\".format( f1_score(y_content_text_test, y_content_text_pred, average='macro')*100 ) )\n",
    "print ( \"Accuracy score {:.4}%\".format(accuracy_score(y_content_text_test, y_content_text_pred)*100) )"
   ]
  },
  {
   "cell_type": "markdown",
   "metadata": {},
   "source": [
    "# Model 5: TF-IDF & MultinomialNB¶"
   ]
  },
  {
   "cell_type": "code",
   "execution_count": null,
   "metadata": {},
   "outputs": [],
   "source": [
    "pipe = Pipeline([('tvect', TfidfVectorizer()),    \n",
    "                 ('nb', MultinomialNB())])\n",
    "\n",
    "# Tune GridSearchCV\n",
    "pipe_params = {'tvect__ngram_range': [(1,1),(1,2),(2,2),(1,3)],\n",
    "               'tvect__max_df': [0.65,0.75,0.85,0.90],\n",
    "               'tvect__min_df': [0.001,0.01],\n",
    "               'tvect__min_df': [0.001,0.01],\n",
    "               'tvect__tokenizer':[LemmaTokenizer(),Regexp.tokenize],\n",
    "               'nb__alpha': [.36, .6]}\n",
    "\n",
    "gs_content = GridSearchCV(pipe, param_grid=pipe_params, cv=3)\n",
    "\n",
    "gs_content.fit(X_content_text_train, y_content_text_train);\n",
    "print(\"Best score:\", gs_content.best_score_)\n",
    "print(\"Train score\", gs_content.score(X_content_text_train, y_content_text_train))\n",
    "print(\"Test score\", gs_content.score(X_content_text_test, y_content_text_test))\n",
    "\n",
    "gs_content.best_params_"
   ]
  },
  {
   "cell_type": "code",
   "execution_count": null,
   "metadata": {},
   "outputs": [],
   "source": [
    "# get predictions for article section\n",
    "y_content_text_pred = gs_content.predict(X_content_text_test)\n",
    "\n",
    "# print metrics\n",
    "print (\"Logistig Regression F1 and Accuracy Scores : \\n\")\n",
    "print ( \"F1 score {:.4}%\".format( f1_score(y_content_text_test, y_content_text_pred, average='macro')*100 ) )\n",
    "print ( \"Accuracy score {:.4}%\".format(accuracy_score(y_content_text_test, y_content_text_pred)*100) )"
   ]
  },
  {
   "cell_type": "markdown",
   "metadata": {},
   "source": [
    "# Model 6： TF-IDF & Random Forest"
   ]
  },
  {
   "cell_type": "code",
   "execution_count": null,
   "metadata": {},
   "outputs": [],
   "source": [
    "pipe = Pipeline([('tvect', TfidfVectorizer()),    \n",
    "                 ('rf', RandomForestClassifier(n_jobs=3))])\n",
    "\n",
    "# Tune GridSearchCV\n",
    "pipe_params = {'tvect__ngram_range': [(1,1),(1,2),(2,2),(1,3)],\n",
    "               'tvect__max_df': [0.65,0.75,0.85,0.90],\n",
    "               'tvect__min_df': [0.001,0.01],\n",
    "               'tvect__min_df': [0.001,0.01],\n",
    "               'tvect__tokenizer':[LemmaTokenizer(),Regexp.tokenize],\n",
    "               'rf__n_estimators':[100,200,300],\n",
    "               'rf__bootstrap': [True, False],\n",
    "               'rf__max_features': ['auto', 'sqrt']}\n",
    "\n",
    "gs_content = GridSearchCV(pipe, param_grid=pipe_params, cv=3)\n",
    "\n",
    "gs_content.fit(X_content_text_train, y_content_text_train);\n",
    "print(\"Best score:\", gs_content.best_score_)\n",
    "print(\"Train score\", gs_content.score(X_content_text_train, y_content_text_train))\n",
    "print(\"Test score\", gs_content.score(X_content_text_test, y_content_text_test))\n",
    "\n",
    "gs_content.best_params_"
   ]
  },
  {
   "cell_type": "code",
   "execution_count": null,
   "metadata": {},
   "outputs": [],
   "source": [
    "# get predictions for article section\n",
    "y_content_text_pred = gs_content.predict(X_content_text_test)\n",
    "\n",
    "# print metrics\n",
    "print (\"Logistig Regression F1 and Accuracy Scores : \\n\")\n",
    "print ( \"F1 score {:.4}%\".format( f1_score(y_content_text_test, y_content_text_pred, average='macro')*100 ) )\n",
    "print ( \"Accuracy score {:.4}%\".format(accuracy_score(y_content_text_test, y_content_text_pred)*100) )"
   ]
  },
  {
   "cell_type": "code",
   "execution_count": null,
   "metadata": {},
   "outputs": [],
   "source": []
  },
  {
   "cell_type": "code",
   "execution_count": null,
   "metadata": {},
   "outputs": [],
   "source": []
  },
  {
   "cell_type": "code",
   "execution_count": null,
   "metadata": {},
   "outputs": [],
   "source": []
  }
 ],
 "metadata": {
  "kernelspec": {
   "display_name": "Python 3",
   "language": "python",
   "name": "python3"
  },
  "language_info": {
   "codemirror_mode": {
    "name": "ipython",
    "version": 3
   },
   "file_extension": ".py",
   "mimetype": "text/x-python",
   "name": "python",
   "nbconvert_exporter": "python",
   "pygments_lexer": "ipython3",
   "version": "3.6.8"
  }
 },
 "nbformat": 4,
 "nbformat_minor": 2
}
