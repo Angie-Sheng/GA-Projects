{
 "cells": [
  {
   "cell_type": "code",
   "execution_count": 2,
   "metadata": {},
   "outputs": [],
   "source": [
    "import time\n",
    "import random\n",
    "time.sleep(random.random()*3)"
   ]
  },
  {
   "cell_type": "code",
   "execution_count": 3,
   "metadata": {},
   "outputs": [],
   "source": [
    "import re"
   ]
  },
  {
   "cell_type": "code",
   "execution_count": 4,
   "metadata": {},
   "outputs": [],
   "source": [
    "import pandas as pd"
   ]
  },
  {
   "cell_type": "code",
   "execution_count": 5,
   "metadata": {},
   "outputs": [],
   "source": [
    "from scrapy.selector import Selector\n",
    "from scrapy.http import HtmlResponse"
   ]
  },
  {
   "cell_type": "code",
   "execution_count": 6,
   "metadata": {},
   "outputs": [],
   "source": [
    "import requests\n",
    "from bs4 import BeautifulSoup"
   ]
  },
  {
   "cell_type": "code",
   "execution_count": 7,
   "metadata": {},
   "outputs": [],
   "source": [
    "import json"
   ]
  },
  {
   "cell_type": "code",
   "execution_count": 8,
   "metadata": {},
   "outputs": [],
   "source": [
    "salary_ranges = ['0-70000','70000-120000','120000-999999']\n",
    "# declare a list\n",
    "job_urls = {}\n",
    "salary_range_list = []\n",
    "\n",
    "for salary_range in salary_ranges:\n",
    "    job_urls[salary_range]=[]\n",
    "    for page in range(1,40):\n",
    "        # iteraterate through the 11 pages of jobs\n",
    "        r = requests.get(\"https://www.seek.com.au/data-scientist-jobs?page={0}&salaryrange={1}&salarytype=annual\".format(str(page),salary_range))\n",
    "\n",
    "        # turn into a BeautifulSoup object\n",
    "        soup = BeautifulSoup(r.text, 'lxml')\n",
    "\n",
    "        # find quotes on page\n",
    "        urls = soup.find_all(attrs={'data-automation':\"jobTitle\"})\n",
    "        \n",
    "        if urls != []: \n",
    "            job_urls[salary_range].extend(urls)\n",
    "            list_of_ranges = [salary_range]*len(urls)\n",
    "            salary_range_list.extend(list_of_ranges)"
   ]
  },
  {
   "cell_type": "markdown",
   "metadata": {},
   "source": [
    "If there is one job which belongs to two or more salary ranges, the concatenated list will be a mess. Thus, I create different dataframes for different salary ranges and then combine them as one."
   ]
  },
  {
   "cell_type": "code",
   "execution_count": 9,
   "metadata": {},
   "outputs": [],
   "source": [
    "df_1 = pd.DataFrame()\n",
    "df_1['Link'] = job_urls['0-70000']\n",
    "df_1['Salary Range'] = '0-70000'"
   ]
  },
  {
   "cell_type": "code",
   "execution_count": 10,
   "metadata": {},
   "outputs": [],
   "source": [
    "df_2 = pd.DataFrame()\n",
    "df_2['Link'] = job_urls['70000-120000']\n",
    "df_2['Salary Range'] = '70000-120000'"
   ]
  },
  {
   "cell_type": "code",
   "execution_count": 11,
   "metadata": {},
   "outputs": [],
   "source": [
    "df_3 = pd.DataFrame()\n",
    "df_3['Link'] = job_urls['120000-999999']\n",
    "df_3['Salary Range'] = '120000-999999'"
   ]
  },
  {
   "cell_type": "code",
   "execution_count": 12,
   "metadata": {},
   "outputs": [],
   "source": [
    "url_pd = df_1.append(df_2).append(df_3)"
   ]
  },
  {
   "cell_type": "code",
   "execution_count": 13,
   "metadata": {},
   "outputs": [],
   "source": [
    "url_pd['Link_1'] =['https://www.seek.com.au' + re.search('(\\/job\\/[0-9]{8})',i.attrs['href']).group(0) for i in url_pd['Link']]"
   ]
  },
  {
   "cell_type": "code",
   "execution_count": 14,
   "metadata": {},
   "outputs": [],
   "source": [
    "url_pd['Title'] = [i.text for i in url_pd['Link']]"
   ]
  },
  {
   "cell_type": "code",
   "execution_count": 15,
   "metadata": {},
   "outputs": [],
   "source": [
    "url_pd = url_pd.drop('Link',axis='columns')"
   ]
  },
  {
   "cell_type": "code",
   "execution_count": 16,
   "metadata": {},
   "outputs": [],
   "source": [
    "columns = ['Salary Range', 'Link', \"Title\"]\n",
    "url_pd.columns=columns"
   ]
  },
  {
   "cell_type": "code",
   "execution_count": 17,
   "metadata": {},
   "outputs": [
    {
     "data": {
      "text/html": [
       "<div>\n",
       "<style scoped>\n",
       "    .dataframe tbody tr th:only-of-type {\n",
       "        vertical-align: middle;\n",
       "    }\n",
       "\n",
       "    .dataframe tbody tr th {\n",
       "        vertical-align: top;\n",
       "    }\n",
       "\n",
       "    .dataframe thead th {\n",
       "        text-align: right;\n",
       "    }\n",
       "</style>\n",
       "<table border=\"1\" class=\"dataframe\">\n",
       "  <thead>\n",
       "    <tr style=\"text-align: right;\">\n",
       "      <th></th>\n",
       "      <th>Salary Range</th>\n",
       "      <th>Link</th>\n",
       "      <th>Title</th>\n",
       "    </tr>\n",
       "  </thead>\n",
       "  <tbody>\n",
       "    <tr>\n",
       "      <th>0</th>\n",
       "      <td>0-70000</td>\n",
       "      <td>https://www.seek.com.au/job/39746982</td>\n",
       "      <td>Data Scientist</td>\n",
       "    </tr>\n",
       "    <tr>\n",
       "      <th>1</th>\n",
       "      <td>0-70000</td>\n",
       "      <td>https://www.seek.com.au/job/39752938</td>\n",
       "      <td>Data Scientist Graduate</td>\n",
       "    </tr>\n",
       "    <tr>\n",
       "      <th>2</th>\n",
       "      <td>0-70000</td>\n",
       "      <td>https://www.seek.com.au/job/39744582</td>\n",
       "      <td>Data Scientist</td>\n",
       "    </tr>\n",
       "    <tr>\n",
       "      <th>3</th>\n",
       "      <td>0-70000</td>\n",
       "      <td>https://www.seek.com.au/job/39713902</td>\n",
       "      <td>Data Analyst / Associate Data Scientist</td>\n",
       "    </tr>\n",
       "    <tr>\n",
       "      <th>4</th>\n",
       "      <td>0-70000</td>\n",
       "      <td>https://www.seek.com.au/job/39719742</td>\n",
       "      <td>Graduate Business - Data Scientist</td>\n",
       "    </tr>\n",
       "  </tbody>\n",
       "</table>\n",
       "</div>"
      ],
      "text/plain": [
       "  Salary Range                                  Link  \\\n",
       "0      0-70000  https://www.seek.com.au/job/39746982   \n",
       "1      0-70000  https://www.seek.com.au/job/39752938   \n",
       "2      0-70000  https://www.seek.com.au/job/39744582   \n",
       "3      0-70000  https://www.seek.com.au/job/39713902   \n",
       "4      0-70000  https://www.seek.com.au/job/39719742   \n",
       "\n",
       "                                     Title  \n",
       "0                           Data Scientist  \n",
       "1                  Data Scientist Graduate  \n",
       "2                           Data Scientist  \n",
       "3  Data Analyst / Associate Data Scientist  \n",
       "4       Graduate Business - Data Scientist  "
      ]
     },
     "execution_count": 17,
     "metadata": {},
     "output_type": "execute_result"
    }
   ],
   "source": [
    "url_pd.head()"
   ]
  },
  {
   "cell_type": "code",
   "execution_count": 18,
   "metadata": {},
   "outputs": [],
   "source": [
    "#test\n",
    "r = requests.get('https://www.seek.com.au/job/39582387')\n",
    "soup = BeautifulSoup(r.text,'lxml')\n",
    "jd_data = soup.find_all(attrs={'data-automation':'server-state'})[0]\n",
    "jd_raw= jd_data.text[3:].split('\\n  ')[1][25:][:-1]"
   ]
  },
  {
   "cell_type": "code",
   "execution_count": 19,
   "metadata": {},
   "outputs": [],
   "source": [
    "import re\n",
    "\n",
    "def replace(string, substitutions):\n",
    "\n",
    "    substrings = sorted(substitutions, key=len, reverse=True)\n",
    "    regex = re.compile('|'.join(map(re.escape, substrings)))\n",
    "    return regex.sub(lambda match: substitutions[match.group(0)], string)"
   ]
  },
  {
   "cell_type": "code",
   "execution_count": 20,
   "metadata": {
    "scrolled": true
   },
   "outputs": [],
   "source": [
    "job_listing_date=[]\n",
    "job_expiry_date=[]\n",
    "job_title = []\n",
    "job_teaser=[]\n",
    "job_advertiser=[]\n",
    "job_area=[]\n",
    "job_worktype=[]\n",
    "job_classification=[]\n",
    "job_salary=[]\n",
    "job_salary_type=[]\n",
    "job_description_details=[]\n",
    "job_description_strong = []\n",
    "job_location =[]\n",
    "\n",
    "for index, job in enumerate(url_pd['Link']):\n",
    "    # iterate through the 202 urls\n",
    "    r = requests.get(job)\n",
    "    \n",
    "    # turn into a BeautifulSoup object\n",
    "    soup = BeautifulSoup(r.text, 'lxml')\n",
    "    \n",
    "    # find job descriptions\n",
    "    jd_data = soup.find_all(attrs={'data-automation':'server-state'})[0]\n",
    "    jd_raw= jd_data.text[3:].split('\\n  ')[1][25:][:-1]\n",
    "    jd_dict = json.loads(jd_raw)\n",
    "    jd_dashboard = jd_dict['jobdetails']['result']\n",
    "    \n",
    "    if jd_dashboard['listingDate']:\n",
    "        job_listing_date.append(jd_dashboard['listingDate'])\n",
    "    else:\n",
    "        job_listing_date.append('N/A')\n",
    "        \n",
    "    if jd_dashboard['expiryDate']:\n",
    "        job_expiry_date.append(jd_dashboard['expiryDate'])\n",
    "    else:\n",
    "        job_expiry_date.append('N/A')\n",
    "        \n",
    "    if jd_dashboard['title']:\n",
    "        job_title.append(jd_dashboard['title'])\n",
    "    else:\n",
    "        job_title.append('N/A')\n",
    "        \n",
    "    if jd_dashboard['teaser']:\n",
    "        job_teaser.append(jd_dashboard['teaser'])\n",
    "    else:\n",
    "        job_teaser.append('N/A')\n",
    "        \n",
    "    if jd_dashboard['advertiser']['description']:\n",
    "        job_advertiser.append(jd_dashboard['advertiser']['description'])\n",
    "    else:\n",
    "        job_advertiser.append('N/A')\n",
    "        \n",
    "    if jd_dashboard['locationHierarchy']['area']:\n",
    "        job_area.append(jd_dashboard['locationHierarchy']['area'])\n",
    "    else:\n",
    "        job_area.append('N/A')\n",
    "        \n",
    "    if jd_dashboard['workType']:\n",
    "        job_worktype.append(jd_dashboard['workType'])\n",
    "    else:\n",
    "        job_worktype.append('N/A')\n",
    "        \n",
    "    if jd_dashboard['classification']['description']:\n",
    "        job_classification.append(jd_dashboard['classification']['description'])\n",
    "    else:\n",
    "        job_classification.append('N/A')\n",
    "        \n",
    "    if jd_dashboard['salary']:\n",
    "        job_salary.append(jd_dashboard['salary'])\n",
    "    else:\n",
    "        job_salary.append('N/A')\n",
    "        \n",
    "    if jd_dashboard['salaryType']:\n",
    "        job_salary_type.append(jd_dashboard['salaryType'])\n",
    "    else:\n",
    "        job_salary_type.append('N/A')\n",
    "        \n",
    "    if jd_dashboard['locationHierarchy']['city']:\n",
    "        job_location.append(jd_dashboard['locationHierarchy']['city'])\n",
    "    else:\n",
    "        job_location.append('N/A')\n",
    "    \n",
    "    jd_detail = soup.find(attrs={'data-automation':'mobileTemplate'})\n",
    "    job_description_details.append(jd_detail)\n",
    "    "
   ]
  },
  {
   "cell_type": "code",
   "execution_count": 21,
   "metadata": {
    "scrolled": true
   },
   "outputs": [],
   "source": [
    "url_pd['Listing Date'] = job_listing_date\n",
    "url_pd['Expiry Date'] =job_expiry_date\n",
    "url_pd['Job Title']=job_title\n",
    "url_pd['Job Teaser']=job_teaser\n",
    "url_pd['Advertiser'] = job_advertiser\n",
    "url_pd['Area'] = job_area\n",
    "url_pd['Work Type'] = job_worktype\n",
    "url_pd['Classification'] = job_classification\n",
    "url_pd['Salary'] = job_salary\n",
    "url_pd['Salary Type'] = job_salary_type\n",
    "url_pd['JD'] = job_description_details\n",
    "url_pd['Location'] =job_location"
   ]
  },
  {
   "cell_type": "code",
   "execution_count": 22,
   "metadata": {},
   "outputs": [],
   "source": [
    "job_description_clean=[]\n",
    "job_description_strong = []\n",
    "for i in range(0,len(url_pd['JD'])):\n",
    "    strong_word = job_description_details[i].find_all('strong')\n",
    "    strong_word_list = [u.get_text(strip=True) for u in strong_word if strong_word != False]\n",
    "    job_description_strong.append(strong_word_list)\n",
    "\n",
    "    string = job_description_details[i].get_text()\n",
    "    repla = {u'\\xa0':'  ',u'\\xe2\\x80\\x9d':'  ', u'\\n':'  '}\n",
    "    job_description_clean.append(replace(string,repla))"
   ]
  },
  {
   "cell_type": "code",
   "execution_count": 23,
   "metadata": {},
   "outputs": [],
   "source": [
    "url_pd['Job Description'] = job_description_clean\n",
    "url_pd['Strong Words'] = job_description_strong "
   ]
  },
  {
   "cell_type": "code",
   "execution_count": 31,
   "metadata": {},
   "outputs": [
    {
     "data": {
      "text/html": [
       "<div>\n",
       "<style scoped>\n",
       "    .dataframe tbody tr th:only-of-type {\n",
       "        vertical-align: middle;\n",
       "    }\n",
       "\n",
       "    .dataframe tbody tr th {\n",
       "        vertical-align: top;\n",
       "    }\n",
       "\n",
       "    .dataframe thead th {\n",
       "        text-align: right;\n",
       "    }\n",
       "</style>\n",
       "<table border=\"1\" class=\"dataframe\">\n",
       "  <thead>\n",
       "    <tr style=\"text-align: right;\">\n",
       "      <th></th>\n",
       "      <th>Salary Range</th>\n",
       "      <th>Link</th>\n",
       "      <th>Title</th>\n",
       "      <th>Listing Date</th>\n",
       "      <th>Expiry Date</th>\n",
       "      <th>Job Title</th>\n",
       "      <th>Job Teaser</th>\n",
       "      <th>Advertiser</th>\n",
       "      <th>Area</th>\n",
       "      <th>Work Type</th>\n",
       "      <th>Classification</th>\n",
       "      <th>Salary</th>\n",
       "      <th>Salary Type</th>\n",
       "      <th>JD</th>\n",
       "      <th>Location</th>\n",
       "      <th>Job Description</th>\n",
       "      <th>Strong Words</th>\n",
       "    </tr>\n",
       "  </thead>\n",
       "  <tbody>\n",
       "    <tr>\n",
       "      <th>0</th>\n",
       "      <td>0-70000</td>\n",
       "      <td>https://www.seek.com.au/job/39746982</td>\n",
       "      <td>Data Scientist</td>\n",
       "      <td>2019-08-20T05:56:16.000Z</td>\n",
       "      <td>2019-09-19T13:59:59.000Z</td>\n",
       "      <td>Data Scientist</td>\n",
       "      <td>Data Scientist Role with Deloitte Consulting -...</td>\n",
       "      <td>Deloitte</td>\n",
       "      <td>CBD &amp; Inner Suburbs</td>\n",
       "      <td>Full Time</td>\n",
       "      <td>Information &amp; Communication Technology</td>\n",
       "      <td>N/A</td>\n",
       "      <td>AnnualPackage</td>\n",
       "      <td>[[· Salary packaging - to suit your personal a...</td>\n",
       "      <td>Brisbane</td>\n",
       "      <td>· Salary packaging - to suit your personal and...</td>\n",
       "      <td>[About the team, , What will your typical day ...</td>\n",
       "    </tr>\n",
       "    <tr>\n",
       "      <th>1</th>\n",
       "      <td>0-70000</td>\n",
       "      <td>https://www.seek.com.au/job/39752938</td>\n",
       "      <td>Data Scientist Graduate</td>\n",
       "      <td>2019-08-21T01:28:04.000Z</td>\n",
       "      <td>2019-09-20T01:28:03.000Z</td>\n",
       "      <td>Data Scientist Graduate</td>\n",
       "      <td>To strengthen the future of IT we are looking ...</td>\n",
       "      <td>Wipro Limited</td>\n",
       "      <td>CBD, Inner West &amp; Eastern Suburbs</td>\n",
       "      <td>Full Time</td>\n",
       "      <td>Science &amp; Technology</td>\n",
       "      <td>N/A</td>\n",
       "      <td>AnnualPackage</td>\n",
       "      <td>[[[About Wipro]],  , [Wipro is a leading globa...</td>\n",
       "      <td>Sydney</td>\n",
       "      <td>About Wipro Wipro is a leading global IT, cons...</td>\n",
       "      <td>[About Wipro, About the role, starting mid-Sep...</td>\n",
       "    </tr>\n",
       "    <tr>\n",
       "      <th>2</th>\n",
       "      <td>0-70000</td>\n",
       "      <td>https://www.seek.com.au/job/39744582</td>\n",
       "      <td>Data Scientist</td>\n",
       "      <td>2019-08-20T03:32:33.000Z</td>\n",
       "      <td>2019-09-19T13:59:59.000Z</td>\n",
       "      <td>Data Scientist</td>\n",
       "      <td>Data Scientist role with Deloitte Consulitng -...</td>\n",
       "      <td>Deloitte</td>\n",
       "      <td>CBD, Inner &amp; Western Suburbs</td>\n",
       "      <td>Full Time</td>\n",
       "      <td>Information &amp; Communication Technology</td>\n",
       "      <td>N/A</td>\n",
       "      <td>AnnualPackage</td>\n",
       "      <td>[[· Salary packaging - to suit your personal a...</td>\n",
       "      <td>Perth</td>\n",
       "      <td>· Salary packaging - to suit your personal and...</td>\n",
       "      <td>[What will your typical day look like?, About ...</td>\n",
       "    </tr>\n",
       "    <tr>\n",
       "      <th>3</th>\n",
       "      <td>0-70000</td>\n",
       "      <td>https://www.seek.com.au/job/39713902</td>\n",
       "      <td>Data Analyst / Associate Data Scientist</td>\n",
       "      <td>2019-08-15T06:18:09.000Z</td>\n",
       "      <td>2019-09-14T06:18:08.000Z</td>\n",
       "      <td>Data Analyst / Associate Data Scientist</td>\n",
       "      <td>Join a fast paced artificial intelligence and ...</td>\n",
       "      <td>Elula</td>\n",
       "      <td>CBD, Inner West &amp; Eastern Suburbs</td>\n",
       "      <td>Full Time</td>\n",
       "      <td>Information &amp; Communication Technology</td>\n",
       "      <td>N/A</td>\n",
       "      <td>AnnualPackage</td>\n",
       "      <td>[[[About Elula and our team]],  , [Elula is an...</td>\n",
       "      <td>Sydney</td>\n",
       "      <td>About Elula and our team Elula is an exciting ...</td>\n",
       "      <td>[About Elula and our team, About the opportuni...</td>\n",
       "    </tr>\n",
       "    <tr>\n",
       "      <th>4</th>\n",
       "      <td>0-70000</td>\n",
       "      <td>https://www.seek.com.au/job/39719742</td>\n",
       "      <td>Graduate Business - Data Scientist</td>\n",
       "      <td>2019-08-16T02:24:49.000Z</td>\n",
       "      <td>2019-09-15T13:59:59.000Z</td>\n",
       "      <td>Graduate Business - Data Scientist</td>\n",
       "      <td>Exceptional opportunity for an energetic and m...</td>\n",
       "      <td>Adelaide Brighton Ltd</td>\n",
       "      <td>N/A</td>\n",
       "      <td>Full Time</td>\n",
       "      <td>Information &amp; Communication Technology</td>\n",
       "      <td>N/A</td>\n",
       "      <td>AnnualPackage</td>\n",
       "      <td>[[], [[The role]], [Our Graduate Program has b...</td>\n",
       "      <td>Gold Coast</td>\n",
       "      <td>The roleOur Graduate Program has been designed...</td>\n",
       "      <td>[The role, Responsibilities, What you will nee...</td>\n",
       "    </tr>\n",
       "  </tbody>\n",
       "</table>\n",
       "</div>"
      ],
      "text/plain": [
       "  Salary Range                                  Link  \\\n",
       "0      0-70000  https://www.seek.com.au/job/39746982   \n",
       "1      0-70000  https://www.seek.com.au/job/39752938   \n",
       "2      0-70000  https://www.seek.com.au/job/39744582   \n",
       "3      0-70000  https://www.seek.com.au/job/39713902   \n",
       "4      0-70000  https://www.seek.com.au/job/39719742   \n",
       "\n",
       "                                     Title              Listing Date  \\\n",
       "0                           Data Scientist  2019-08-20T05:56:16.000Z   \n",
       "1                  Data Scientist Graduate  2019-08-21T01:28:04.000Z   \n",
       "2                           Data Scientist  2019-08-20T03:32:33.000Z   \n",
       "3  Data Analyst / Associate Data Scientist  2019-08-15T06:18:09.000Z   \n",
       "4       Graduate Business - Data Scientist  2019-08-16T02:24:49.000Z   \n",
       "\n",
       "                Expiry Date                                Job Title  \\\n",
       "0  2019-09-19T13:59:59.000Z                          Data Scientist    \n",
       "1  2019-09-20T01:28:03.000Z                  Data Scientist Graduate   \n",
       "2  2019-09-19T13:59:59.000Z                          Data Scientist    \n",
       "3  2019-09-14T06:18:08.000Z  Data Analyst / Associate Data Scientist   \n",
       "4  2019-09-15T13:59:59.000Z       Graduate Business - Data Scientist   \n",
       "\n",
       "                                          Job Teaser             Advertiser  \\\n",
       "0  Data Scientist Role with Deloitte Consulting -...               Deloitte   \n",
       "1  To strengthen the future of IT we are looking ...          Wipro Limited   \n",
       "2  Data Scientist role with Deloitte Consulitng -...               Deloitte   \n",
       "3  Join a fast paced artificial intelligence and ...                  Elula   \n",
       "4  Exceptional opportunity for an energetic and m...  Adelaide Brighton Ltd   \n",
       "\n",
       "                                Area  Work Type  \\\n",
       "0                CBD & Inner Suburbs  Full Time   \n",
       "1  CBD, Inner West & Eastern Suburbs  Full Time   \n",
       "2       CBD, Inner & Western Suburbs  Full Time   \n",
       "3  CBD, Inner West & Eastern Suburbs  Full Time   \n",
       "4                                N/A  Full Time   \n",
       "\n",
       "                           Classification Salary    Salary Type  \\\n",
       "0  Information & Communication Technology    N/A  AnnualPackage   \n",
       "1                    Science & Technology    N/A  AnnualPackage   \n",
       "2  Information & Communication Technology    N/A  AnnualPackage   \n",
       "3  Information & Communication Technology    N/A  AnnualPackage   \n",
       "4  Information & Communication Technology    N/A  AnnualPackage   \n",
       "\n",
       "                                                  JD    Location  \\\n",
       "0  [[· Salary packaging - to suit your personal a...    Brisbane   \n",
       "1  [[[About Wipro]],  , [Wipro is a leading globa...      Sydney   \n",
       "2  [[· Salary packaging - to suit your personal a...       Perth   \n",
       "3  [[[About Elula and our team]],  , [Elula is an...      Sydney   \n",
       "4  [[], [[The role]], [Our Graduate Program has b...  Gold Coast   \n",
       "\n",
       "                                     Job Description  \\\n",
       "0  · Salary packaging - to suit your personal and...   \n",
       "1  About Wipro Wipro is a leading global IT, cons...   \n",
       "2  · Salary packaging - to suit your personal and...   \n",
       "3  About Elula and our team Elula is an exciting ...   \n",
       "4  The roleOur Graduate Program has been designed...   \n",
       "\n",
       "                                        Strong Words  \n",
       "0  [About the team, , What will your typical day ...  \n",
       "1  [About Wipro, About the role, starting mid-Sep...  \n",
       "2  [What will your typical day look like?, About ...  \n",
       "3  [About Elula and our team, About the opportuni...  \n",
       "4  [The role, Responsibilities, What you will nee...  "
      ]
     },
     "execution_count": 31,
     "metadata": {},
     "output_type": "execute_result"
    }
   ],
   "source": [
    "url_pd.head()"
   ]
  },
  {
   "cell_type": "code",
   "execution_count": 25,
   "metadata": {},
   "outputs": [],
   "source": [
    "data_scientist_jobs = url_pd.copy()"
   ]
  },
  {
   "cell_type": "code",
   "execution_count": 26,
   "metadata": {},
   "outputs": [],
   "source": [
    "data_scientist_jobs.to_csv('data_scientist_scraping.csv')"
   ]
  },
  {
   "cell_type": "code",
   "execution_count": null,
   "metadata": {},
   "outputs": [],
   "source": []
  }
 ],
 "metadata": {
  "kernelspec": {
   "display_name": "Python 3",
   "language": "python",
   "name": "python3"
  },
  "language_info": {
   "codemirror_mode": {
    "name": "ipython",
    "version": 3
   },
   "file_extension": ".py",
   "mimetype": "text/x-python",
   "name": "python",
   "nbconvert_exporter": "python",
   "pygments_lexer": "ipython3",
   "version": "3.5.3"
  }
 },
 "nbformat": 4,
 "nbformat_minor": 4
}
